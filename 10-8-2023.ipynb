{
 "cells": [
  {
   "cell_type": "code",
   "execution_count": 1,
   "id": "cff21463",
   "metadata": {},
   "outputs": [
    {
     "name": "stdout",
     "output_type": "stream",
     "text": [
      "Please input number of fractions N4\n",
      "Please input numerator : N= 11\n",
      "Please input numerator : N= 22\n",
      "Please input numerator : N= 32\n",
      "Please input numerator : N= 48\n",
      "Please input denominator : N= 12\n",
      "Please input denominator : N= 24\n",
      "Please input denominator : N= 36\n",
      "Please input denominator : N= 412\n",
      "available fractions: 1/2\n",
      "available fractions: 2/4\n",
      "available fractions: 2/6\n",
      "available fractions: 8/12\n",
      "Found Pair: 1/2 + 2/4 = 1\n",
      "Found Pair: 2/6 + 8/12 = 1\n"
     ]
    }
   ],
   "source": [
    "## ASK THE USER FOR THE NUMBER OF N  eg. 4 means 4 fractions ) ##\n",
    "N = input('Please input number of fractions N')\n",
    "numerator = []\n",
    "denominator = []\n",
    "\n",
    "## COLLECT NUMERATOR FROM USER BY ASKING FOR EACH NUMBER UPTO N ##\n",
    "\n",
    "for i in range(int(N)):\n",
    "   in_number = input('Please input numerator : N= {}'.format(str(i+1)))\n",
    "   numerator.append(int(in_number))\n",
    "\n",
    "## COLLECT DENOMINATOR FROM USER BY ASKING FOR EACH NUMBER UPTO N ##\n",
    "\n",
    "for i in range(int(N)):\n",
    "   in_number = input('Please input denominator : N= {}'.format(str(i+1)))\n",
    "   denominator.append(int(in_number))\n",
    "\n",
    "fractions = []\n",
    "\n",
    "\n",
    "## SHOW ALL FRACTIONS  ##\n",
    "\n",
    "for i in range(len(numerator)):\n",
    "   a = numerator[i] /  denominator[i]\n",
    "   fractions.append(a)\n",
    "   print(\"available fractions: {}\".format(str(numerator[i]) + \"/\" + str(denominator[i])))\n",
    "\n",
    "pairs = []\n",
    "found = False\n",
    "\n",
    "## FIND WHICH PAIRS ADD UP TO ONE  ##\n",
    "\n",
    "for i in range(len(numerator)):\n",
    "   a = numerator[i] / denominator[i]\n",
    "   for j in range(i, len(numerator)):\n",
    "       if i != j:\n",
    "           b = numerator[j] / denominator[j]\n",
    "\n",
    "           if a + b == 1:\n",
    "               print(\"Found Pair: {} + {} = 1\".format(str(numerator[i]) + \"/\" + str(denominator[i]), str(numerator[j]) + \"/\" + str(denominator[j])))\n",
    "               found = True\n",
    "if not found:\n",
    "   print('No fractions were found')"
   ]
  },
  {
   "cell_type": "code",
   "execution_count": null,
   "id": "1af0fad1",
   "metadata": {},
   "outputs": [],
   "source": []
  }
 ],
 "metadata": {
  "kernelspec": {
   "display_name": "Python 3 (ipykernel)",
   "language": "python",
   "name": "python3"
  },
  "language_info": {
   "codemirror_mode": {
    "name": "ipython",
    "version": 3
   },
   "file_extension": ".py",
   "mimetype": "text/x-python",
   "name": "python",
   "nbconvert_exporter": "python",
   "pygments_lexer": "ipython3",
   "version": "3.9.13"
  }
 },
 "nbformat": 4,
 "nbformat_minor": 5
}
